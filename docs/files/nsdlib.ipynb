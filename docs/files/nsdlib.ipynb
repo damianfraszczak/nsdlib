{
 "cells": [
  {
   "cell_type": "markdown",
   "id": "8201518347de614b",
   "metadata": {
    "collapsed": false
   },
   "source": [
    "# Introduction to NSDLib: Network Centrality Library\n",
    " NSDLib (Network centrality library) is a tool to compute a wide range of centrality measures for a given network. The library is designed to work with Python Networkx library.\n",
    "\n",
    "The goal of NSDLib is to offer a comprehensive repository for implementing a broad spectrum of centrality measures. Each year, new measures are introduced through scientific papers, often with only pseudo-code descriptions, making it difficult for researchers to evaluate and compare them with existing methods. While implementations of well-known centrality measures exist, recent innovations are frequently absent. NSDLib strives to bridge this gap. It references the renowned CentiServer portal for well-known centrality measures and their originating papers, aiming to encompass all these measures in the future."
   ]
  },
  {
   "cell_type": "markdown",
   "id": "d8258e3ea1ca90fc",
   "metadata": {
    "collapsed": false
   },
   "source": [
    "## Table of Contents\n",
    "\n",
    "### 1. [Installation](#Installation)\n",
    "### 2. [Usage](#Usage)\n",
    "### 3. [Conclusion](#Conclusion)\n"
   ]
  },
  {
   "cell_type": "markdown",
   "id": "58bcba1df3d0e49c",
   "metadata": {
    "collapsed": false
   },
   "source": [
    "## Installation\n",
    "To install NSDLib, you can use pip:\n"
   ]
  },
  {
   "cell_type": "code",
   "id": "b381088ebcc58325",
   "metadata": {
    "collapsed": false
   },
   "outputs": [],
   "source": "!pip install nsdlib",
   "execution_count": null
  },
  {
   "cell_type": "markdown",
   "id": "8715072a02f0319f",
   "metadata": {
    "collapsed": false
   },
   "source": [
    "## Usage\n",
    "To use NSDLib, you need to import the library and create a networkx graphs. Then, you can use the library to compute node evaluation, identify propagation outbreaks and reconstruction propagation graphs.  Here is an example of how to use NSDLib:\n"
   ]
  },
  {
   "cell_type": "code",
   "id": "61b29b2237c37c42",
   "metadata": {
    "collapsed": false
   },
   "outputs": [],
   "source": [
    "import networkx as nx\n",
    "import nsdlib as nsd\n",
    "from nsdlib.common.models import SourceDetectionConfig\n",
    "from nsdlib.source_detection import SourceDetector\n",
    "from nsdlib.taxonomies import NodeEvaluationAlgorithm\n"
   ],
   "execution_count": null
  },
  {
   "cell_type": "markdown",
   "id": "c95770f04bb13de1",
   "metadata": {
    "collapsed": false
   },
   "source": [
    "## Creating Graphs\n",
    "We'll use a built-in NetworkX graph for demonstration purposes, to have propagation graph we will remove some nodes.\n"
   ]
  },
  {
   "cell_type": "code",
   "id": "c4b54fc0cad454ca",
   "metadata": {
    "ExecuteTime": {
     "start_time": "2024-02-22T10:24:27.617857700Z"
    },
    "collapsed": false
   },
   "outputs": [],
   "source": [
    "G = nx.karate_club_graph()\n",
    "\n",
    "IG = G.copy()\n",
    "IG.remove_nodes_from([10,15,20,33])"
   ],
   "execution_count": null
  },
  {
   "cell_type": "markdown",
   "id": "c9cda74e41bf6f7e",
   "metadata": {
    "collapsed": false
   },
   "source": [
    "## Reconstructing Propagation Graph\n",
    "\n",
    "Let's try to reconstruct propagation graph, as some nodes could be not observed. In our example we removed some of them.\n"
   ]
  },
  {
   "cell_type": "code",
   "id": "c6aed6b640d14f6c",
   "metadata": {
    "ExecuteTime": {
     "start_time": "2024-02-22T10:24:27.617857700Z"
    },
    "collapsed": false
   },
   "outputs": [],
   "source": "EIG = nsd.reconstruction_sbrp(G, IG)\n",
   "execution_count": null
  },
  {
   "cell_type": "markdown",
   "id": "54dfcb3b5db9fa55",
   "metadata": {
    "collapsed": false
   },
   "source": [
    "## Finding outbreaks\n",
    "\n",
    "It is common that propagation starts from multiple sources. For most cases we try to divide network into smaller  groups called outbreaks that should contain at least one source node. We should do it on reconstructed propagation graph.\n"
   ]
  },
  {
   "cell_type": "code",
   "id": "94ab78fa7659e69f",
   "metadata": {
    "ExecuteTime": {
     "start_time": "2024-02-22T10:24:27.619004100Z"
    },
    "collapsed": false
   },
   "outputs": [],
   "source": "outbreaks = nsd.outbreaks_leiden(EIG)",
   "execution_count": null
  },
  {
   "metadata": {},
   "cell_type": "markdown",
   "source": [
    "## Doing source detection\n",
    "\n",
    "When we have outbreaks we can try to detect sources of propagation. We can use different algorithms for this task. In this example we will use degree centrality to evaluate nodes and then take one with highest score as source."
   ],
   "id": "57d2c24f8914db60"
  },
  {
   "metadata": {},
   "cell_type": "code",
   "outputs": [],
   "execution_count": null,
   "source": [
    "detected_sources = []\n",
    "for outbreak in outbreaks.communities:\n",
    "    outbreak_G = G.subgraph(outbreak)\n",
    "    nodes_evaluation = nsd.evaluation_degree_centrality(outbreak_G)\n",
    "    outbreak_detected_source = max(nodes_evaluation, key=nodes_evaluation.get)\n",
    "    print(f\"Outbreak: {outbreak}, Detected Source: {outbreak_detected_source}\")\n",
    "    detected_sources.append(outbreak_detected_source)\n",
    "    "
   ],
   "id": "49daba73bd249bff"
  },
  {
   "metadata": {},
   "cell_type": "markdown",
   "source": [
    "## Source detection evaluation\n",
    "\n",
    "When we have found nodes its time to evaluate our classification. To do this we need to know real sources of propagation. In real cases we won't have this data but for research it is popular to use simulations or have some data from real cases."
   ],
   "id": "4458466b4c59f541"
  },
  {
   "metadata": {},
   "cell_type": "code",
   "outputs": [],
   "execution_count": null,
   "source": [
    "real_sources = [0,8]\n",
    "\n",
    "evaluation = nsd.compute_source_detection_evaluation(\n",
    "    G=EIG,\n",
    "    real_sources=real_sources,\n",
    "    detected_sources=detected_sources,\n",
    ")\n",
    "print(evaluation)"
   ],
   "id": "ba9c37e8c45dde2a"
  },
  {
   "cell_type": "markdown",
   "id": "92c70d79aff2b146",
   "metadata": {
    "collapsed": false
   },
   "source": [
    "## Conclusion\n",
    "\n",
    "In this notebook, we introduced basic usage of NSDLib for performing source detection process in given network. For more detailed examples and advanced features, refer to the NSDLib documentation and the [Jupyter Notebook](netcenlib.ipynb) available in the repository.\n"
   ]
  },
  {
   "cell_type": "markdown",
   "id": "b69ead6658dc6ca",
   "metadata": {
    "collapsed": false
   },
   "source": []
  }
 ],
 "metadata": {
  "kernelspec": {
   "display_name": "Python 3",
   "language": "python",
   "name": "python3"
  },
  "language_info": {
   "codemirror_mode": {
    "name": "ipython",
    "version": 2
   },
   "file_extension": ".py",
   "mimetype": "text/x-python",
   "name": "python",
   "nbconvert_exporter": "python",
   "pygments_lexer": "ipython2",
   "version": "2.7.6"
  }
 },
 "nbformat": 4,
 "nbformat_minor": 5
}
